{
 "cells": [
  {
   "cell_type": "code",
   "execution_count": null,
   "id": "669b54bd",
   "metadata": {},
   "outputs": [],
   "source": [
    "print(\"Enter Url of a medium article:\")\n",
    "url = input()"
   ]
  },
  {
   "cell_type": "code",
   "execution_count": null,
   "id": "dd9633dc",
   "metadata": {},
   "outputs": [],
   "source": [
    "res = requests.get(url)"
   ]
  },
  {
   "cell_type": "code",
   "execution_count": null,
   "id": "0a761dcb",
   "metadata": {},
   "outputs": [],
   "source": [
    "with open(fname , \"w\") as file:\n",
    "         file.write(str(text))"
   ]
  }
 ],
 "metadata": {
  "kernelspec": {
   "display_name": "Python 3 (ipykernel)",
   "language": "python",
   "name": "python3"
  },
  "language_info": {
   "codemirror_mode": {
    "name": "ipython",
    "version": 3
   },
   "file_extension": ".py",
   "mimetype": "text/x-python",
   "name": "python",
   "nbconvert_exporter": "python",
   "pygments_lexer": "ipython3",
   "version": "3.9.13"
  }
 },
 "nbformat": 4,
 "nbformat_minor": 5
}
